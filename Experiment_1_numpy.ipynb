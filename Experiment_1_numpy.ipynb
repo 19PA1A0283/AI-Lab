{
  "nbformat": 4,
  "nbformat_minor": 0,
  "metadata": {
    "colab": {
      "name": "Experiment 1 numpy.ipynb",
      "provenance": [],
      "authorship_tag": "ABX9TyOlnLQB/AyW0iTdvstIjgGE",
      "include_colab_link": true
    },
    "kernelspec": {
      "name": "python3",
      "display_name": "Python 3"
    }
  },
  "cells": [
    {
      "cell_type": "markdown",
      "metadata": {
        "id": "view-in-github",
        "colab_type": "text"
      },
      "source": [
        "<a href=\"https://colab.research.google.com/github/19PA1A0283/AI-Lab/blob/master/Experiment_1_numpy.ipynb\" target=\"_parent\"><img src=\"https://colab.research.google.com/assets/colab-badge.svg\" alt=\"Open In Colab\"/></a>"
      ]
    },
    {
      "cell_type": "markdown",
      "metadata": {
        "id": "JnoeaQqtmPxy",
        "colab_type": "text"
      },
      "source": [
        "# 1) Experiment 1:Numpy"
      ]
    },
    {
      "cell_type": "markdown",
      "metadata": {
        "id": "fh0TLufJnQQK",
        "colab_type": "text"
      },
      "source": [
        "##i) Different ways to create Numpy arrays"
      ]
    },
    {
      "cell_type": "code",
      "metadata": {
        "id": "awDuWRVToWHc",
        "colab_type": "code",
        "colab": {
          "base_uri": "https://localhost:8080/",
          "height": 51
        },
        "outputId": "71de1b79-fda1-4d23-9a13-a85a1fdee3cd"
      },
      "source": [
        "import numpy as np\n",
        "a=np.array([[1,2,3],[4,5,6]])\n",
        "print(a)"
      ],
      "execution_count": 2,
      "outputs": [
        {
          "output_type": "stream",
          "text": [
            "[[1 2 3]\n",
            " [4 5 6]]\n"
          ],
          "name": "stdout"
        }
      ]
    },
    {
      "cell_type": "markdown",
      "metadata": {
        "id": "RBInc2SYe7Aq",
        "colab_type": "text"
      },
      "source": [
        "##ii)Add,remove,modify array elements"
      ]
    },
    {
      "cell_type": "markdown",
      "metadata": {
        "id": "AUh7tsVRfRGH",
        "colab_type": "text"
      },
      "source": [
        "###a)Add"
      ]
    },
    {
      "cell_type": "code",
      "metadata": {
        "id": "W6EImBvWfX0C",
        "colab_type": "code",
        "colab": {
          "base_uri": "https://localhost:8080/",
          "height": 34
        },
        "outputId": "a3c465e3-2213-4e83-85b5-1bfc71d8abbb"
      },
      "source": [
        "a=np.array([5,6,7])\n",
        "b=np.append(a,[4,8,9])\n",
        "print(b)"
      ],
      "execution_count": 3,
      "outputs": [
        {
          "output_type": "stream",
          "text": [
            "[5 6 7 4 8 9]\n"
          ],
          "name": "stdout"
        }
      ]
    },
    {
      "cell_type": "markdown",
      "metadata": {
        "id": "Qd9WRvDAgckg",
        "colab_type": "text"
      },
      "source": [
        "###b)remove"
      ]
    },
    {
      "cell_type": "code",
      "metadata": {
        "id": "OQYMCV7Zgrmx",
        "colab_type": "code",
        "colab": {
          "base_uri": "https://localhost:8080/",
          "height": 34
        },
        "outputId": "69d4eac6-ee0a-4fb5-9bc5-469efc55582f"
      },
      "source": [
        "c=np.delete(a,2)\n",
        "print(c)"
      ],
      "execution_count": 4,
      "outputs": [
        {
          "output_type": "stream",
          "text": [
            "[5 6]\n"
          ],
          "name": "stdout"
        }
      ]
    },
    {
      "cell_type": "markdown",
      "metadata": {
        "id": "P7ygXKp5jmWm",
        "colab_type": "text"
      },
      "source": [
        "###c)modify"
      ]
    },
    {
      "cell_type": "code",
      "metadata": {
        "id": "SWIAAGhAjqF4",
        "colab_type": "code",
        "colab": {
          "base_uri": "https://localhost:8080/",
          "height": 34
        },
        "outputId": "d31fde3b-a1df-4a85-be8b-31e5b25e1f16"
      },
      "source": [
        "c[c>5]=-1\n",
        "print(c)"
      ],
      "execution_count": 5,
      "outputs": [
        {
          "output_type": "stream",
          "text": [
            "[ 5 -1]\n"
          ],
          "name": "stdout"
        }
      ]
    },
    {
      "cell_type": "markdown",
      "metadata": {
        "id": "zjuHF00Ej78A",
        "colab_type": "text"
      },
      "source": [
        "##iii)Arthematic operations on numpy array"
      ]
    },
    {
      "cell_type": "code",
      "metadata": {
        "id": "WByRI9ZDkJr4",
        "colab_type": "code",
        "colab": {
          "base_uri": "https://localhost:8080/",
          "height": 751
        },
        "outputId": "53b87fb0-e364-4c24-cd1e-90654a0a7c24"
      },
      "source": [
        "import numpy as np\n",
        "s=np.random.random((6,6))\n",
        "m=np.random.random((6,6))\n",
        "num_sum=np.add(s,m)\n",
        "num_diff=np.subtract(s,m)\n",
        "num_prod=np.multiply(s,m)\n",
        "num_quo=np.divide(s,m)\n",
        "num_mod=np.mod(s,m)\n",
        "num_pow=np.power(s,m)\n",
        "print(num_sum)\n",
        "print(num_diff)\n",
        "print(num_prod)\n",
        "print(num_quo)\n",
        "print(num_mod)\n",
        "print(num_pow)"
      ],
      "execution_count": 7,
      "outputs": [
        {
          "output_type": "stream",
          "text": [
            "[[0.8678347  0.92801057 0.68137095 1.32914892 1.2361926  0.92192097]\n",
            " [1.01217715 0.64513328 0.81641847 1.2350608  1.06577991 1.12086715]\n",
            " [0.66575073 0.50592588 0.91820699 1.86248708 1.58730771 1.61643921]\n",
            " [1.26841824 0.55139284 1.22366974 0.67026337 1.66462196 1.24390039]\n",
            " [1.05129947 0.42731202 0.91585257 0.39887433 1.0981874  1.78150766]\n",
            " [0.20240271 1.07380896 0.30385694 1.09768865 0.98189701 0.87583455]]\n",
            "[[ 0.5297468   0.64919674 -0.47931652 -0.66085732 -0.21545523  0.03244176]\n",
            " [ 0.81621603  0.24064404 -0.28529296  0.11452554  0.05414076 -0.70656042]\n",
            " [-0.26087773  0.23371101 -0.10793535 -0.11130794 -0.15416824  0.03847396]\n",
            " [ 0.3679546  -0.12901486 -0.71091493  0.56400385  0.19630872  0.66733443]\n",
            " [ 0.52557003 -0.12155021 -0.39488968  0.39220021 -0.30884744  0.07315377]\n",
            " [ 0.07333491  0.19135519 -0.05388532 -0.03920251 -0.36578862 -0.67739982]]\n",
            "[[0.11812635 0.1099368  0.05863051 0.33247611 0.3704378  0.21222145]\n",
            " [0.08957349 0.08957185 0.14628676 0.37806477 0.2832389  0.18927889]\n",
            " [0.09379171 0.05033504 0.20786351 0.86411717 0.62394448 0.65284887]\n",
            " [0.36837356 0.07184731 0.2479919  0.03278816 0.68310729 0.27548824]\n",
            " [0.20725168 0.04195528 0.17071202 0.00131993 0.27765721 0.79210452]\n",
            " [0.00889721 0.27911222 0.02235635 0.30084588 0.2075801  0.07705391]]\n",
            "[[  4.13378146   5.65684754   0.17408169   0.33582387   0.70315772\n",
            "    1.0729455 ]\n",
            " [  9.3303876    2.18986622   0.48209131   1.2044122    1.10703572\n",
            "    0.22671581]\n",
            " [  0.43693133   2.71710683   0.78962889   0.88721428   0.82294531\n",
            "    1.04876402]\n",
            " [  1.81725587   0.62077191   0.26504645  11.61559247   1.26739352\n",
            "    3.3148589 ]\n",
            " [  2.99939353   0.55708297   0.39745639 118.52878124   0.56099532\n",
            "    1.08564241]\n",
            " [  2.1363781    1.43368886   0.69874782   0.9310356    0.45716031\n",
            "    0.12775582]]\n",
            "[[0.02261495 0.09156909 0.10102722 0.3341458  0.51036869 0.03244176]\n",
            " [0.03237156 0.03839942 0.26556275 0.11452554 0.05414076 0.20715337]\n",
            " [0.2024365  0.09760357 0.40513582 0.87558957 0.71656974 0.03847396]\n",
            " [0.3679546  0.21118899 0.2563774  0.03270628 0.19630872 0.09076846]\n",
            " [0.2627053  0.1528809  0.26048144 0.00176457 0.39466998 0.07315377]\n",
            " [0.00880101 0.19135519 0.12498581 0.52924307 0.30805419 0.09921737]]\n",
            "[[0.9412128  0.96743412 0.26438211 0.3359811  0.61372701 0.71961103]\n",
            " [0.99124872 0.84813499 0.48172501 0.8022133  0.74578392 0.2372939 ]\n",
            " [0.47708278 0.87337354 0.62902977 0.87711509 0.74811446 0.8611968 ]\n",
            " [0.9136152  0.58918349 0.26804883 0.97468189 0.94846442 0.9869979 ]\n",
            " [0.9394277  0.59725686 0.4141112  0.99690963 0.51992853 0.93758918]\n",
            " [0.879967   0.81704772 0.6893733  0.69648699 0.452288   0.16623894]]\n"
          ],
          "name": "stdout"
        }
      ]
    },
    {
      "cell_type": "markdown",
      "metadata": {
        "id": "h7TM8bSimcGn",
        "colab_type": "text"
      },
      "source": [
        "##iv)slicing and iterating of numpy arrays"
      ]
    },
    {
      "cell_type": "markdown",
      "metadata": {
        "id": "1khLVzcemtZO",
        "colab_type": "text"
      },
      "source": [
        "###a)slicing"
      ]
    },
    {
      "cell_type": "code",
      "metadata": {
        "id": "BAUbowySmzlm",
        "colab_type": "code",
        "colab": {
          "base_uri": "https://localhost:8080/",
          "height": 34
        },
        "outputId": "0934e4e6-ee34-4786-c08f-6bd7271b8e6f"
      },
      "source": [
        "import numpy as np\n",
        "arr=np.array([1,2,3,4,5,6,7,8])\n",
        "print(arr[2:7])"
      ],
      "execution_count": 9,
      "outputs": [
        {
          "output_type": "stream",
          "text": [
            "[3 4 5 6 7]\n"
          ],
          "name": "stdout"
        }
      ]
    },
    {
      "cell_type": "markdown",
      "metadata": {
        "id": "qxzN6KcanRiq",
        "colab_type": "text"
      },
      "source": [
        "###b)iterating"
      ]
    },
    {
      "cell_type": "code",
      "metadata": {
        "id": "jRHPbjdInXrW",
        "colab_type": "code",
        "colab": {
          "base_uri": "https://localhost:8080/",
          "height": 153
        },
        "outputId": "afa8926c-bc50-42f7-8c05-6601913a5222"
      },
      "source": [
        "for x in arr:\n",
        "  print(x)"
      ],
      "execution_count": 11,
      "outputs": [
        {
          "output_type": "stream",
          "text": [
            "1\n",
            "2\n",
            "3\n",
            "4\n",
            "5\n",
            "6\n",
            "7\n",
            "8\n"
          ],
          "name": "stdout"
        }
      ]
    },
    {
      "cell_type": "markdown",
      "metadata": {
        "id": "5NwLLLQ7nthk",
        "colab_type": "text"
      },
      "source": [
        "##v)matrix operations on numpy arrays"
      ]
    },
    {
      "cell_type": "code",
      "metadata": {
        "id": "KWUzZVBun4VY",
        "colab_type": "code",
        "colab": {
          "base_uri": "https://localhost:8080/",
          "height": 119
        },
        "outputId": "ac8882de-0d59-40ec-a383-f6c2ad62a7e0"
      },
      "source": [
        "import numpy as np\n",
        "s=np.array([[1,4],[3,2]])\n",
        "m=np.array([[5,7],[6,8]])\n",
        "print(np.add(s,m))\n",
        "print(np.subtract(s,m))\n",
        "print(np.divide(s,m))"
      ],
      "execution_count": 12,
      "outputs": [
        {
          "output_type": "stream",
          "text": [
            "[[ 6 11]\n",
            " [ 9 10]]\n",
            "[[-4 -3]\n",
            " [-3 -6]]\n",
            "[[0.2        0.57142857]\n",
            " [0.5        0.25      ]]\n"
          ],
          "name": "stdout"
        }
      ]
    }
  ]
}